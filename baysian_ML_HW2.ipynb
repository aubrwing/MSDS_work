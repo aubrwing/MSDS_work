{
 "cells": [
  {
   "cell_type": "markdown",
   "id": "d8b813d4-f4f8-4d78-ac42-0171941634e9",
   "metadata": {},
   "source": [
    "Problem 1"
   ]
  },
  {
   "cell_type": "markdown",
   "id": "50b27a44-b5a1-4f19-b5cc-6c20447c156d",
   "metadata": {},
   "source": [
    "Part A)"
   ]
  },
  {
   "cell_type": "markdown",
   "id": "3bcb9ba3-09a1-4d74-8f89-3ee3e87f75cf",
   "metadata": {},
   "source": [
    "Regardless of the assumptions made, the maximum probability class was always not selecting a new bank service. The probabilies were the same order of magnitude when LDA was used with equal class priors and equal costs of misclassifications, but not choosing a new service still had the maximum probability. This is likely because customers with similar characteristics to the one we are predicting behavior for typically do not choose a new bank service.  Because the prior is so influential in the outcome of the decision rule, when the prior was high for not selecting a new bank service that outcome always had a maximum probability one magnitude greater than choosing a new bank service. The added cost only made this difference greater."
   ]
  },
  {
   "cell_type": "code",
   "execution_count": 17,
   "id": "2a6ec5f3-10db-49c8-ab27-20a4a9a252f6",
   "metadata": {},
   "outputs": [
    {
     "name": "stdout",
     "output_type": "stream",
     "text": [
      "QDA Predicted Class: no\n",
      "QDA Class Likelihoods:\n",
      "no: 2.1030206042712085e-09\n",
      "yes: 1.0972531944110302e-09\n",
      "Posterior Probabilities with equal priors and equal costs: \n",
      "Posterior probability for class no: 1.0515103021356043e-09\n",
      "Posterior probability for class yes: 5.486265972055151e-10\n",
      "Most probable class: no\n",
      "Posterior Probabilities with unequal priors and equal costs: \n",
      "Posterior probability for class no: 1.8927185438440876e-09\n",
      "Posterior probability for class yes: 1.0972531944110303e-10\n",
      "Most probable class: no\n",
      "Posterior Probabilities with unequal priors and unequal costs: \n",
      "Posterior probability for class no: 2.8390778157661314e-08\n",
      "Posterior probability for class yes: 1.0972531944110303e-10\n",
      "Most probable class: no\n"
     ]
    }
   ],
   "source": [
    "# This is code for Quadratic Discriminant Analysis\n",
    "# Written by William F Basener\n",
    "# University of Virginia, School of Data Science\n",
    "# For use in teaching Bayesian Machine Learning\n",
    "#\n",
    "# The code currently computes the maximum likelihood classification\n",
    "# Student is to add method to compute posterior probabilities and maximum probability classification\n",
    "\n",
    "import pandas as pd\n",
    "import numpy as np\n",
    "\n",
    "\n",
    "def multivariate_gaussian_pdf(X, MU, SIGMA):\n",
    "    \"\"\"Code from Data Blog https://xavierbourretsicotte.github.io/MLE_Multivariate_Gaussian.html\n",
    "    Maximum Likelihood Estimator: Multivariate Gaussian Distribution\n",
    "        by Xavier Bourret Sicotte, Fri 22 June 2018\n",
    "    Returns the pdf of a multivariate Gaussian distribution\n",
    "     - X, MU are p x 1 vectors\n",
    "     - SIGMA is a p x p matrix\"\"\"\n",
    "    # Initialize and reshape\n",
    "    X = X.reshape(-1, 1)\n",
    "    MU = MU.reshape(-1, 1)\n",
    "    p, _ = SIGMA.shape\n",
    "\n",
    "    # Compute values\n",
    "    SIGMA_inv = np.linalg.inv(SIGMA)\n",
    "    denominator = np.sqrt((2 * np.pi) ** p * np.linalg.det(SIGMA))\n",
    "    exponent = -(1 / 2) * ((X - MU).T @ SIGMA_inv @ (X - MU))\n",
    "\n",
    "    # Return result\n",
    "    return float((1. / denominator) * np.exp(exponent))\n",
    "\n",
    "\n",
    "class QDA:\n",
    "    \"\"\"Creates a class for Quadratic Discriminant Analysis\n",
    "    Input:\n",
    "        fname = file name for a csv file, must have one column labeled \"class\" and the rest numeric data\n",
    "    Methods:\n",
    "        compute_probabilities = given an input observation computes the likelihood for each class and the GML class\n",
    "        compute_probabilities: given an input observation and prior probabilities,\n",
    "            computes the posterior probabilities for each class and most probable class\"\"\"\n",
    "\n",
    "    def __init__(self, fname):\n",
    "        # reads the data and computes the statistics needed for classification\n",
    "\n",
    "        # read the iris data as a Pandas data frame\n",
    "        df = pd.read_csv(fname)\n",
    "\n",
    "        # separate the class labels from the rest of the data\n",
    "        # we are assuming the column name with class labels is 'Class'\n",
    "        # and all other columns are numeric\n",
    "        self.data_labels = df.loc[:]['y']\n",
    "        self.data = np.asarray(df.loc[:,['age','balance','duration']])\n",
    "        #self.data = np.asarray(df.drop('y', axis=1, inplace=False))\n",
    "\n",
    "        # get information about the dimensions the data\n",
    "        self.num_rows, self.num_cols = self.data.shape\n",
    "\n",
    "        # get the class names as an array of strings\n",
    "        self.class_names = np.unique(self.data_labels)\n",
    "\n",
    "        # determine number of observations in each class\n",
    "        self.num_obs = dict()\n",
    "        for name in self.class_names:\n",
    "            self.num_obs[name] = sum(self.data_labels == name)\n",
    "\n",
    "        # compute the mean of each class\n",
    "        self.means = dict()\n",
    "        for name in self.class_names:\n",
    "            self.means[name] = np.mean(self.data[self.data_labels == name, :], 0)\n",
    "\n",
    "        # compute the covariance matrix of each class\n",
    "        self.covs = dict()\n",
    "        for name in self.class_names:\n",
    "            self.covs[name] = np.cov(np.transpose(self.data[self.data_labels == name, :]))\n",
    "        self.likelihoods = []\n",
    "\n",
    "    def compute_likelihoods(self, x):\n",
    "        # compute and output the likelihood of each class and the maximum likelihood class\n",
    "\n",
    "        # check that the input data x has the correct number of rows\n",
    "        if not (len(x) == self.num_cols):\n",
    "            print('Data vector has wrong number of values.')\n",
    "            return -1\n",
    "\n",
    "        # reformat x as a numpy array, incase the user input a list\n",
    "        x = np.asarray(x)\n",
    "\n",
    "        # compute the likelihood of each class\n",
    "        likelihoods = np.zeros(len(self.class_names))\n",
    "        idx = 0\n",
    "        for name in self.class_names:\n",
    "            likelihoods[idx] = multivariate_gaussian_pdf(x, self.means[name], self.covs[name])\n",
    "            idx = idx + 1\n",
    "        # get the indices for sorting the likelihoods (in descending order)\n",
    "        indices_sorted = np.argsort(likelihoods)[::-1]\n",
    "\n",
    "        # print the predicted class and all class likelihoods\n",
    "        print('QDA Predicted Class: ' + self.class_names[indices_sorted[0]])\n",
    "        print('QDA Class Likelihoods:')\n",
    "        for idx in range(len(indices_sorted)):\n",
    "            print(self.class_names[indices_sorted[idx]] + ': ' + str(likelihoods[indices_sorted[idx]]))\n",
    "        self.likelihoods = likelihoods\n",
    "        # return the likelihoods\n",
    "        return likelihoods\n",
    "\n",
    "    def compute_probabilities(self, x, priors, costs):\n",
    "        #need to complete this?\n",
    "        # compute and output the probability of each class and the maximum probability class\n",
    "        #given an input observation and prior probabilities, computes the posterior probabilities for each class and most probable class\n",
    "        #print(self.likelihoods)\n",
    "        if not (len(x) == self.num_cols):\n",
    "            print('Data vector has wrong number of values.')\n",
    "            return -1\n",
    "        probabilities = []\n",
    "        for i in range(len(self.likelihoods)):\n",
    "            probabilities.append(self.likelihoods[i]*priors[i]*costs[i])\n",
    "            print(\"Posterior probability for class \"+self.class_names[i]+\": \"+str(probabilities[i]))\n",
    "        indices_sorted = np.argsort(self.likelihoods)[::-1]\n",
    "        print(\"Most probable class: \"+self.class_names[indices_sorted[0]])\n",
    "        \n",
    "\n",
    "\n",
    "model_qda = QDA('bank-full.csv')\n",
    "\n",
    "bank_observation = [58,261,261]\n",
    "model_qda.compute_likelihoods(bank_observation)\n",
    "costs = [1,1]\n",
    "priors = [0.5,0.5]\n",
    "print(\"Posterior Probabilities with equal priors and equal costs: \")\n",
    "model_qda.compute_probabilities(bank_observation, priors,costs)\n",
    "\n",
    "priors = [0.9,0.1]\n",
    "print(\"Posterior Probabilities with unequal priors and equal costs: \")\n",
    "model_qda.compute_probabilities(bank_observation, priors,costs)\n",
    "\n",
    "costs = [15,1]\n",
    "print(\"Posterior Probabilities with unequal priors and unequal costs: \")\n",
    "model_qda.compute_probabilities(bank_observation,priors,costs)\n"
   ]
  },
  {
   "cell_type": "markdown",
   "id": "637242db-bf1e-40fd-90b9-4bb271301192",
   "metadata": {},
   "source": [
    "Part B)"
   ]
  },
  {
   "cell_type": "code",
   "execution_count": 19,
   "id": "074481a4-ae3b-42d7-ae02-6f4dc6f6b997",
   "metadata": {},
   "outputs": [
    {
     "name": "stdout",
     "output_type": "stream",
     "text": [
      "LDA Predicted Class: no\n",
      "LDA Class Likelihoods:\n",
      "no: 1.956466109661074e-09\n",
      "yes: 1.0728059317829897e-09\n",
      "Posterior Probabilities with equal priors and equal costs: \n",
      "Posterior probability for class no: 9.78233054830537e-10\n",
      "Posterior probability for class yes: 5.364029658914948e-10\n",
      "Most probable class: no\n",
      "Posterior Probabilities with unequal priors and equal costs: \n",
      "Posterior probability for class no: 1.7608194986949668e-09\n",
      "Posterior probability for class yes: 1.0728059317829898e-10\n",
      "Most probable class: no\n",
      "Posterior Probabilities with unequal priors and unequal costs: \n",
      "Posterior probability for class no: 2.6412292480424504e-08\n",
      "Posterior probability for class yes: 1.0728059317829898e-10\n",
      "Most probable class: no\n"
     ]
    }
   ],
   "source": [
    "def multivariate_gaussian_pdf(X, MU, SIGMA):\n",
    "    \"\"\"Code from Data Blog https://xavierbourretsicotte.github.io/MLE_Multivariate_Gaussian.html\n",
    "    Maximum Likelihood Estimator: Multivariate Gaussian Distribution\n",
    "        by Xavier Bourret Sicotte, Fri 22 June 2018\n",
    "    Returns the pdf of a multivariate Gaussian distribution\n",
    "     - X, MU are p x 1 vectors\n",
    "     - SIGMA is a p x p matrix\"\"\"\n",
    "    # Initialize and reshape\n",
    "    X = X.reshape(-1, 1)\n",
    "    MU = MU.reshape(-1, 1)\n",
    "    p, _ = SIGMA.shape\n",
    "\n",
    "    # Compute values\n",
    "    SIGMA_inv = np.linalg.inv(SIGMA)\n",
    "    denominator = np.sqrt((2 * np.pi) ** p * np.linalg.det(SIGMA))\n",
    "    exponent = -(1 / 2) * ((X - MU).T @ SIGMA_inv @ (X - MU))\n",
    "\n",
    "    # Return result\n",
    "    return float((1. / denominator) * np.exp(exponent))\n",
    "\n",
    "#for LDA the covariances have to be equal, this is not the case for quadratic\n",
    "#compute a pool variance covariance matrix\n",
    "class LDA:\n",
    "    \"\"\"Creates a class for Linear Discriminant Analysis\n",
    "    Input:\n",
    "        fname = file name for a csv file, must have one column labeled \"class\" and the rest numeric data\n",
    "    Methods:\n",
    "        compute_probabilities = given an input observation computes the likelihood for each class and the GML class\n",
    "        compute_probabilities: given an input observation and prior probabilities,\n",
    "            computes the posterior probabilities for each class and most probable class\"\"\"\n",
    "\n",
    "    def __init__(self, fname):\n",
    "        # reads the data and computes the statistics needed for classification\n",
    "\n",
    "        # read the iris data as a Pandas data frame\n",
    "        df = pd.read_csv(fname)\n",
    "\n",
    "        # separate the class labels from the rest of the data\n",
    "        # we are assuming the column name with class labels is 'Class'\n",
    "        # and all other columns are numeric\n",
    "        self.data_labels = df.loc[:]['y']\n",
    "        self.data = np.asarray(df.loc[:,['age','balance','duration']])\n",
    "\n",
    "        # get information about the dimensions the data\n",
    "        self.num_rows, self.num_cols = self.data.shape\n",
    "\n",
    "        # get the class names as an array of strings\n",
    "        self.class_names = np.unique(self.data_labels)\n",
    "\n",
    "        # determine number of observations in each class\n",
    "        self.num_obs = dict()\n",
    "        for name in self.class_names:\n",
    "            self.num_obs[name] = sum(self.data_labels == name)\n",
    "\n",
    "        # compute the mean of each class\n",
    "        self.means = dict()\n",
    "        for name in self.class_names:\n",
    "            self.means[name] = np.mean(self.data[self.data_labels == name, :], 0)\n",
    "\n",
    "        # compute the mean covariance matrix\n",
    "        self.cov = np.zeros([self.num_cols, self.num_cols])\n",
    "        for name in self.class_names:\n",
    "            self.cov = self.cov + self.num_obs[name] * np.cov(np.transpose(self.data[self.data_labels == name, :]))\n",
    "        self.cov = self.cov / self.num_rows\n",
    "        self.likelihoods = []\n",
    "    def compute_likelihoods(self, x):\n",
    "        # compute and output the likelihood of each class and the maximum likelihood class\n",
    "\n",
    "        # check that the input data x has the correct number of rows\n",
    "        if not (len(x) == self.num_cols):\n",
    "            print('Data vector has wrong number of values.')\n",
    "            return -1\n",
    "\n",
    "        # reformat x as a numpy array, incase the user input a list\n",
    "        x = np.asarray(x)\n",
    "\n",
    "        # compute the likelihood of each class\n",
    "        likelihoods = np.zeros(len(self.class_names))\n",
    "        idx = 0\n",
    "        for name in self.class_names:\n",
    "            likelihoods[idx] = multivariate_gaussian_pdf(x, self.means[name], self.cov)\n",
    "            idx = idx + 1\n",
    "\n",
    "        # get the indices for sorting the likelihoods (in descending order)\n",
    "        indices_sorted = np.argsort(likelihoods)[::-1]\n",
    "\n",
    "        # print the predicted class and all class likelihoods\n",
    "        print('LDA Predicted Class: ' + self.class_names[indices_sorted[0]])\n",
    "        print('LDA Class Likelihoods:')\n",
    "        for idx in range(len(indices_sorted)):\n",
    "            print(self.class_names[indices_sorted[idx]] + ': ' + str(likelihoods[indices_sorted[idx]]))\n",
    "        self.likelihoods = likelihoods\n",
    "        # return the likelihoods\n",
    "        return likelihoods\n",
    "\n",
    "    def compute_probabilities(self, x, priors, costs):\n",
    "        # compute and output the probability of each class and the maximum probability class\n",
    "        if not (len(x) == self.num_cols):\n",
    "            print('Data vector has wrong number of values.')\n",
    "            return -1\n",
    "        probabilities = []\n",
    "        for i in range(len(self.likelihoods)):\n",
    "            probabilities.append(self.likelihoods[i]*priors[i]*costs[i])\n",
    "            print(\"Posterior probability for class \"+self.class_names[i]+\": \"+str(probabilities[i]))\n",
    "        indices_sorted = np.argsort(self.likelihoods)[::-1]\n",
    "        print(\"Most probable class: \"+self.class_names[indices_sorted[0]])\n",
    "\n",
    "model_lda = LDA('bank-full.csv')\n",
    "\n",
    "bank_observation = [58,261,261]\n",
    "model_lda.compute_likelihoods(bank_observation)\n",
    "costs = [1,1]\n",
    "priors = [0.5,0.5]\n",
    "print(\"Posterior Probabilities with equal priors and equal costs: \")\n",
    "model_lda.compute_probabilities(bank_observation, priors,costs)\n",
    "\n",
    "priors = [0.9,0.1]\n",
    "print(\"Posterior Probabilities with unequal priors and equal costs: \")\n",
    "model_lda.compute_probabilities(bank_observation, priors,costs)\n",
    "\n",
    "costs = [15,1]\n",
    "print(\"Posterior Probabilities with unequal priors and unequal costs: \")\n",
    "model_lda.compute_probabilities(bank_observation,priors,costs)"
   ]
  },
  {
   "cell_type": "markdown",
   "id": "f08b76fe-9d33-441f-8b85-cec33c411d30",
   "metadata": {},
   "source": [
    "Question 2"
   ]
  },
  {
   "cell_type": "code",
   "execution_count": 187,
   "id": "5b1155e3-d58c-4cf6-9a75-837f67507285",
   "metadata": {},
   "outputs": [],
   "source": [
    "# Naive Bayes Classification\n",
    "# Training \n",
    "\n",
    "# Priors\n",
    "# Uninformed priors\n",
    "# priors = np.array([1/3,1/3,1/3])\n",
    "mushroom_names = pd.read_csv(\"MushroomVariables.txt\")\n",
    "shroom_data = pd.read_csv(\"MushroomData.csv\", header=None)\n",
    "shroom_data.columns=mushroom_names.columns"
   ]
  },
  {
   "cell_type": "code",
   "execution_count": 188,
   "id": "5ecb09ff-e3d3-48cc-93eb-40afbc225697",
   "metadata": {},
   "outputs": [
    {
     "data": {
      "text/html": [
       "<div>\n",
       "<style scoped>\n",
       "    .dataframe tbody tr th:only-of-type {\n",
       "        vertical-align: middle;\n",
       "    }\n",
       "\n",
       "    .dataframe tbody tr th {\n",
       "        vertical-align: top;\n",
       "    }\n",
       "\n",
       "    .dataframe thead th {\n",
       "        text-align: right;\n",
       "    }\n",
       "</style>\n",
       "<table border=\"1\" class=\"dataframe\">\n",
       "  <thead>\n",
       "    <tr style=\"text-align: right;\">\n",
       "      <th></th>\n",
       "      <th>edible_class</th>\n",
       "      <th>cap-shape</th>\n",
       "      <th>cap-surface</th>\n",
       "      <th>cap-color</th>\n",
       "      <th>bruises</th>\n",
       "      <th>odor</th>\n",
       "      <th>gill-attachment</th>\n",
       "      <th>gill-spacing</th>\n",
       "      <th>gill-size</th>\n",
       "      <th>gill-color</th>\n",
       "      <th>...</th>\n",
       "      <th>stalk-surface-below-ring</th>\n",
       "      <th>stalk-color-above-ring</th>\n",
       "      <th>stalk-color-below-ring</th>\n",
       "      <th>veil-type</th>\n",
       "      <th>veil-color</th>\n",
       "      <th>ring-number</th>\n",
       "      <th>ring-type</th>\n",
       "      <th>spore-print-color</th>\n",
       "      <th>population</th>\n",
       "      <th>habitat</th>\n",
       "    </tr>\n",
       "  </thead>\n",
       "  <tbody>\n",
       "    <tr>\n",
       "      <th>0</th>\n",
       "      <td>EDIBLE</td>\n",
       "      <td>CONVEX</td>\n",
       "      <td>SMOOTH</td>\n",
       "      <td>WHITE</td>\n",
       "      <td>BRUISES</td>\n",
       "      <td>ALMOND</td>\n",
       "      <td>FREE</td>\n",
       "      <td>CROWDED</td>\n",
       "      <td>NARROW</td>\n",
       "      <td>WHITE</td>\n",
       "      <td>...</td>\n",
       "      <td>SMOOTH</td>\n",
       "      <td>WHITE</td>\n",
       "      <td>WHITE</td>\n",
       "      <td>PARTIAL</td>\n",
       "      <td>WHITE</td>\n",
       "      <td>ONE</td>\n",
       "      <td>PENDANT</td>\n",
       "      <td>PURPLE</td>\n",
       "      <td>SEVERAL</td>\n",
       "      <td>WOODS</td>\n",
       "    </tr>\n",
       "    <tr>\n",
       "      <th>1</th>\n",
       "      <td>EDIBLE</td>\n",
       "      <td>CONVEX</td>\n",
       "      <td>SMOOTH</td>\n",
       "      <td>WHITE</td>\n",
       "      <td>BRUISES</td>\n",
       "      <td>ALMOND</td>\n",
       "      <td>FREE</td>\n",
       "      <td>CROWDED</td>\n",
       "      <td>NARROW</td>\n",
       "      <td>WHITE</td>\n",
       "      <td>...</td>\n",
       "      <td>SMOOTH</td>\n",
       "      <td>WHITE</td>\n",
       "      <td>WHITE</td>\n",
       "      <td>PARTIAL</td>\n",
       "      <td>WHITE</td>\n",
       "      <td>ONE</td>\n",
       "      <td>PENDANT</td>\n",
       "      <td>BROWN</td>\n",
       "      <td>SEVERAL</td>\n",
       "      <td>WOODS</td>\n",
       "    </tr>\n",
       "    <tr>\n",
       "      <th>2</th>\n",
       "      <td>EDIBLE</td>\n",
       "      <td>CONVEX</td>\n",
       "      <td>SMOOTH</td>\n",
       "      <td>WHITE</td>\n",
       "      <td>BRUISES</td>\n",
       "      <td>ALMOND</td>\n",
       "      <td>FREE</td>\n",
       "      <td>CROWDED</td>\n",
       "      <td>NARROW</td>\n",
       "      <td>PINK</td>\n",
       "      <td>...</td>\n",
       "      <td>SMOOTH</td>\n",
       "      <td>WHITE</td>\n",
       "      <td>WHITE</td>\n",
       "      <td>PARTIAL</td>\n",
       "      <td>WHITE</td>\n",
       "      <td>ONE</td>\n",
       "      <td>PENDANT</td>\n",
       "      <td>PURPLE</td>\n",
       "      <td>SEVERAL</td>\n",
       "      <td>WOODS</td>\n",
       "    </tr>\n",
       "    <tr>\n",
       "      <th>3</th>\n",
       "      <td>EDIBLE</td>\n",
       "      <td>CONVEX</td>\n",
       "      <td>SMOOTH</td>\n",
       "      <td>WHITE</td>\n",
       "      <td>BRUISES</td>\n",
       "      <td>ALMOND</td>\n",
       "      <td>FREE</td>\n",
       "      <td>CROWDED</td>\n",
       "      <td>NARROW</td>\n",
       "      <td>PINK</td>\n",
       "      <td>...</td>\n",
       "      <td>SMOOTH</td>\n",
       "      <td>WHITE</td>\n",
       "      <td>WHITE</td>\n",
       "      <td>PARTIAL</td>\n",
       "      <td>WHITE</td>\n",
       "      <td>ONE</td>\n",
       "      <td>PENDANT</td>\n",
       "      <td>BROWN</td>\n",
       "      <td>SEVERAL</td>\n",
       "      <td>WOODS</td>\n",
       "    </tr>\n",
       "    <tr>\n",
       "      <th>4</th>\n",
       "      <td>EDIBLE</td>\n",
       "      <td>CONVEX</td>\n",
       "      <td>SMOOTH</td>\n",
       "      <td>WHITE</td>\n",
       "      <td>BRUISES</td>\n",
       "      <td>ALMOND</td>\n",
       "      <td>FREE</td>\n",
       "      <td>CROWDED</td>\n",
       "      <td>NARROW</td>\n",
       "      <td>BROWN</td>\n",
       "      <td>...</td>\n",
       "      <td>SMOOTH</td>\n",
       "      <td>WHITE</td>\n",
       "      <td>WHITE</td>\n",
       "      <td>PARTIAL</td>\n",
       "      <td>WHITE</td>\n",
       "      <td>ONE</td>\n",
       "      <td>PENDANT</td>\n",
       "      <td>PURPLE</td>\n",
       "      <td>SEVERAL</td>\n",
       "      <td>WOODS</td>\n",
       "    </tr>\n",
       "  </tbody>\n",
       "</table>\n",
       "<p>5 rows × 23 columns</p>\n",
       "</div>"
      ],
      "text/plain": [
       "  edible_class cap-shape cap-surface cap-color  bruises    odor  \\\n",
       "0       EDIBLE    CONVEX      SMOOTH     WHITE  BRUISES  ALMOND   \n",
       "1       EDIBLE    CONVEX      SMOOTH     WHITE  BRUISES  ALMOND   \n",
       "2       EDIBLE    CONVEX      SMOOTH     WHITE  BRUISES  ALMOND   \n",
       "3       EDIBLE    CONVEX      SMOOTH     WHITE  BRUISES  ALMOND   \n",
       "4       EDIBLE    CONVEX      SMOOTH     WHITE  BRUISES  ALMOND   \n",
       "\n",
       "  gill-attachment gill-spacing  gill-size gill-color  ...  \\\n",
       "0            FREE       CROWDED    NARROW      WHITE  ...   \n",
       "1            FREE       CROWDED    NARROW      WHITE  ...   \n",
       "2            FREE       CROWDED    NARROW       PINK  ...   \n",
       "3            FREE       CROWDED    NARROW       PINK  ...   \n",
       "4            FREE       CROWDED    NARROW      BROWN  ...   \n",
       "\n",
       "  stalk-surface-below-ring stalk-color-above-ring stalk-color-below-ring  \\\n",
       "0                   SMOOTH                  WHITE                  WHITE   \n",
       "1                   SMOOTH                  WHITE                  WHITE   \n",
       "2                   SMOOTH                  WHITE                  WHITE   \n",
       "3                   SMOOTH                  WHITE                  WHITE   \n",
       "4                   SMOOTH                  WHITE                  WHITE   \n",
       "\n",
       "  veil-type veil-color ring-number ring-type spore-print-color population  \\\n",
       "0   PARTIAL      WHITE         ONE   PENDANT            PURPLE    SEVERAL   \n",
       "1   PARTIAL      WHITE         ONE   PENDANT             BROWN    SEVERAL   \n",
       "2   PARTIAL      WHITE         ONE   PENDANT            PURPLE    SEVERAL   \n",
       "3   PARTIAL      WHITE         ONE   PENDANT             BROWN    SEVERAL   \n",
       "4   PARTIAL      WHITE         ONE   PENDANT            PURPLE    SEVERAL   \n",
       "\n",
       "  habitat  \n",
       "0   WOODS  \n",
       "1   WOODS  \n",
       "2   WOODS  \n",
       "3   WOODS  \n",
       "4   WOODS  \n",
       "\n",
       "[5 rows x 23 columns]"
      ]
     },
     "execution_count": 188,
     "metadata": {},
     "output_type": "execute_result"
    }
   ],
   "source": [
    "shroom_data.head()"
   ]
  },
  {
   "cell_type": "code",
   "execution_count": 189,
   "id": "2adabfb4-2c28-4877-ba8e-a7e16392c8de",
   "metadata": {},
   "outputs": [
    {
     "name": "stdout",
     "output_type": "stream",
     "text": [
      "(5639, 23)\n",
      "(2778, 23)\n"
     ]
    }
   ],
   "source": [
    "import sklearn\n",
    "from sklearn.model_selection import train_test_split\n",
    "train,test = sklearn.model_selection.train_test_split(shroom_data,test_size=0.33,random_state=42)\n",
    "train_y = train['edible_class']\n",
    "print(train.shape)\n",
    "print(test.shape)"
   ]
  },
  {
   "cell_type": "code",
   "execution_count": 190,
   "id": "8940e253-9f61-4cd1-9625-1e0c58b5d1c7",
   "metadata": {},
   "outputs": [
    {
     "data": {
      "text/plain": [
       "EDIBLE       2991\n",
       "POISONOUS    2647\n",
       "Name: edible_class, dtype: int64"
      ]
     },
     "execution_count": 190,
     "metadata": {},
     "output_type": "execute_result"
    }
   ],
   "source": [
    "train_y.value_counts()"
   ]
  },
  {
   "cell_type": "code",
   "execution_count": 191,
   "id": "3e2c9a84-6fbc-4976-9ab4-36dec1839d09",
   "metadata": {},
   "outputs": [],
   "source": [
    "\n",
    "# Informed priors\n",
    "N_edible = np.array([2991,2647])\n",
    "edible_labels = np.array([\"EDIBLE\",\"POISONOUS\"])\n",
    "TotalMushrooms = sum(N_edible)\n",
    "priors = N_edible/TotalMushrooms "
   ]
  },
  {
   "cell_type": "markdown",
   "id": "0ad9caea-d00e-4e74-8905-86038b4bdec9",
   "metadata": {},
   "source": [
    "Getting the dataframe into the correct form!!"
   ]
  },
  {
   "cell_type": "code",
   "execution_count": 192,
   "id": "0ac32be8-2706-461b-8c9e-627aad1e45f0",
   "metadata": {},
   "outputs": [],
   "source": [
    "train_sort = train.drop(['edible_class'],axis=1)"
   ]
  },
  {
   "cell_type": "code",
   "execution_count": 193,
   "id": "7bdaf90f-5631-404d-b35d-6ecf5d78d1a9",
   "metadata": {},
   "outputs": [],
   "source": [
    "# Probability of Words given review type\n",
    "#WordSums = train_x.sum(0) # number of words in each review category\n",
    "def transform_data(train,train_sort):\n",
    "    df = pd.DataFrame()\n",
    "    for column in train_sort:\n",
    "        new_train = train.groupby([column,'edible_class'])[column].count()\n",
    "        new_train_df = pd.DataFrame(new_train)\n",
    "        new_train_df.columns=['counts']\n",
    "        new_train_df.reset_index(inplace=True)\n",
    "        new_train_df = new_train_df.pivot(index='edible_class', columns=column,values='counts').fillna(0)\n",
    "        new_train_df.columns.name=None\n",
    "        new_train_df.rename_axis(None,inplace=True)\n",
    "        new_train_df = new_train_df.add_suffix(str(column)).T\n",
    "        df = pd.concat([df,new_train_df])\n",
    "    return df"
   ]
  },
  {
   "cell_type": "code",
   "execution_count": 194,
   "id": "3335b2a5-2e7d-45e7-84a8-cbe922cc18f2",
   "metadata": {},
   "outputs": [],
   "source": [
    "df = transform_data(train,train_sort)"
   ]
  },
  {
   "cell_type": "code",
   "execution_count": 201,
   "id": "fe0fe454-68d0-42e4-83f9-0e6c6638ed0b",
   "metadata": {},
   "outputs": [
    {
     "data": {
      "text/html": [
       "<div>\n",
       "<style scoped>\n",
       "    .dataframe tbody tr th:only-of-type {\n",
       "        vertical-align: middle;\n",
       "    }\n",
       "\n",
       "    .dataframe tbody tr th {\n",
       "        vertical-align: top;\n",
       "    }\n",
       "\n",
       "    .dataframe thead th {\n",
       "        text-align: right;\n",
       "    }\n",
       "</style>\n",
       "<table border=\"1\" class=\"dataframe\">\n",
       "  <thead>\n",
       "    <tr style=\"text-align: right;\">\n",
       "      <th></th>\n",
       "      <th>EDIBLE</th>\n",
       "      <th>POISONOUS</th>\n",
       "    </tr>\n",
       "  </thead>\n",
       "  <tbody>\n",
       "    <tr>\n",
       "      <th>BELLcap-shape</th>\n",
       "      <td>275.0</td>\n",
       "      <td>33.0</td>\n",
       "    </tr>\n",
       "    <tr>\n",
       "      <th>CONICALcap-shape</th>\n",
       "      <td>0.0</td>\n",
       "      <td>3.0</td>\n",
       "    </tr>\n",
       "    <tr>\n",
       "      <th>CONVEXcap-shape</th>\n",
       "      <td>1350.0</td>\n",
       "      <td>1156.0</td>\n",
       "    </tr>\n",
       "    <tr>\n",
       "      <th>FLATcap-shape</th>\n",
       "      <td>1189.0</td>\n",
       "      <td>1039.0</td>\n",
       "    </tr>\n",
       "    <tr>\n",
       "      <th>KNOBBEDcap-shape</th>\n",
       "      <td>155.0</td>\n",
       "      <td>416.0</td>\n",
       "    </tr>\n",
       "    <tr>\n",
       "      <th>...</th>\n",
       "      <td>...</td>\n",
       "      <td>...</td>\n",
       "    </tr>\n",
       "    <tr>\n",
       "      <th>MEADOWShabitat</th>\n",
       "      <td>165.0</td>\n",
       "      <td>23.0</td>\n",
       "    </tr>\n",
       "    <tr>\n",
       "      <th>PATHShabitat</th>\n",
       "      <td>92.0</td>\n",
       "      <td>667.0</td>\n",
       "    </tr>\n",
       "    <tr>\n",
       "      <th>URBANhabitat</th>\n",
       "      <td>67.0</td>\n",
       "      <td>184.0</td>\n",
       "    </tr>\n",
       "    <tr>\n",
       "      <th>WASTEhabitat</th>\n",
       "      <td>115.0</td>\n",
       "      <td>0.0</td>\n",
       "    </tr>\n",
       "    <tr>\n",
       "      <th>WOODShabitat</th>\n",
       "      <td>1277.0</td>\n",
       "      <td>874.0</td>\n",
       "    </tr>\n",
       "  </tbody>\n",
       "</table>\n",
       "<p>117 rows × 2 columns</p>\n",
       "</div>"
      ],
      "text/plain": [
       "                  EDIBLE  POISONOUS\n",
       "BELLcap-shape      275.0       33.0\n",
       "CONICALcap-shape     0.0        3.0\n",
       "CONVEXcap-shape   1350.0     1156.0\n",
       "FLATcap-shape     1189.0     1039.0\n",
       "KNOBBEDcap-shape   155.0      416.0\n",
       "...                  ...        ...\n",
       "MEADOWShabitat     165.0       23.0\n",
       "PATHShabitat        92.0      667.0\n",
       "URBANhabitat        67.0      184.0\n",
       "WASTEhabitat       115.0        0.0\n",
       "WOODShabitat      1277.0      874.0\n",
       "\n",
       "[117 rows x 2 columns]"
      ]
     },
     "execution_count": 201,
     "metadata": {},
     "output_type": "execute_result"
    }
   ],
   "source": [
    "df"
   ]
  },
  {
   "cell_type": "markdown",
   "id": "6ffde1ab-719b-4c88-b9b4-dea7b2620950",
   "metadata": {},
   "source": [
    "Now we can calculate probabilities"
   ]
  },
  {
   "cell_type": "code",
   "execution_count": 195,
   "id": "8b9332f0-1e07-4ab2-b6b5-bc46b4ac49c2",
   "metadata": {},
   "outputs": [],
   "source": [
    "# Probability of Words given review type\n",
    "\n",
    "v = len(df.index)# number of distinct words in the data\n",
    "α = 1.5 # smoothing parameter\n",
    "\n",
    "Pword = np.zeros([len(df.index), len(df.columns)])\n",
    "for i in range(len(df.index)):\n",
    "    for j in range(len(df.columns)):\n",
    "        Pword[i,j] = (df.iloc[i,j] + α)/(N_edible[j] + v*α)"
   ]
  },
  {
   "cell_type": "code",
   "execution_count": 196,
   "id": "4e62bada-6da5-47b0-bae9-92e98f611fb4",
   "metadata": {},
   "outputs": [],
   "source": [
    "edible_class = test['edible_class']\n",
    "test.drop('edible_class',inplace=True,axis=1)"
   ]
  },
  {
   "cell_type": "code",
   "execution_count": 202,
   "id": "9d41a980-a75e-4985-b8ff-3dcc7f3464bb",
   "metadata": {},
   "outputs": [],
   "source": [
    "test = test.astype(str).apply(lambda x : x+x.name)"
   ]
  },
  {
   "cell_type": "code",
   "execution_count": 230,
   "id": "8a364573-ef9a-4351-95d8-d37847973394",
   "metadata": {},
   "outputs": [],
   "source": [
    "# Naive Bayes Classification\n",
    "# Classification of new review\n",
    "\n",
    "\n",
    "#NewReview = [\"we\", \"liked\", \"the\", 'tasty', \"calamari\"]\n",
    "edible_predicted = []\n",
    "# Match words with the words in the corpus\n",
    "for row in range(len(test.index)):\n",
    "    FeaturesIndex = list()\n",
    "    for i in range(len(test.iloc[row,:])):\n",
    "        for j in range(len(df.index)):\n",
    "            if test.iloc[row,:][i] == df.index[j].strip():\n",
    "                FeaturesIndex.append(j)\n",
    "\n",
    "    # Likelihoods\n",
    "\n",
    "    likelihoods = np.ones(len(df.columns))\n",
    "    for j in range(len(df.columns)):\n",
    "        for i in FeaturesIndex:\n",
    "            likelihoods[j] = likelihoods[j]*Pword[i,j]\n",
    "\n",
    "    # Posterior Probabilities\n",
    "\n",
    "    numerator = likelihoods * priors\n",
    "    postprob = np.round(numerator/numerator.sum(), 4)\n",
    "    postprob\n",
    "\n",
    "    if postprob[0]>postprob[1]:\n",
    "        edible_predicted.append(\"EDIBLE\")\n",
    "    else:\n",
    "        edible_predicted.append(\"POISONOUS\")"
   ]
  },
  {
   "cell_type": "markdown",
   "id": "fc967193-0f84-4438-9252-e71b832a90dc",
   "metadata": {},
   "source": [
    "Predicted values for the test data:"
   ]
  },
  {
   "cell_type": "code",
   "execution_count": 231,
   "id": "8e124548-b4a4-4049-9faf-a50075967b79",
   "metadata": {},
   "outputs": [
    {
     "data": {
      "text/plain": [
       "edible_class\n",
       "EDIBLE          1614\n",
       "POISONOUS       1164\n",
       "dtype: int64"
      ]
     },
     "execution_count": 231,
     "metadata": {},
     "output_type": "execute_result"
    }
   ],
   "source": [
    "edible_predicted = pd.DataFrame(edible_predicted,columns=[\"edible_class\"])\n",
    "edible_predicted.value_counts()"
   ]
  },
  {
   "cell_type": "markdown",
   "id": "dabcf5a7-b5dd-4096-9faa-560842abe626",
   "metadata": {},
   "source": [
    "Real values for the test data:"
   ]
  },
  {
   "cell_type": "code",
   "execution_count": 226,
   "id": "fdd2701e-6fb5-44c0-b7eb-67ed48b0e4f9",
   "metadata": {},
   "outputs": [
    {
     "data": {
      "text/plain": [
       "EDIBLE       1497\n",
       "POISONOUS    1281\n",
       "Name: edible_class, dtype: int64"
      ]
     },
     "execution_count": 226,
     "metadata": {},
     "output_type": "execute_result"
    }
   ],
   "source": [
    "edible_class.value_counts()"
   ]
  },
  {
   "cell_type": "code",
   "execution_count": 233,
   "id": "766ae97c-19df-4f4f-9c0b-1830e5694527",
   "metadata": {},
   "outputs": [
    {
     "data": {
      "text/plain": [
       "0.9456443484521239"
      ]
     },
     "execution_count": 233,
     "metadata": {},
     "output_type": "execute_result"
    }
   ],
   "source": [
    "sklearn.metrics.accuracy_score(edible_class,edible_predicted)"
   ]
  },
  {
   "cell_type": "markdown",
   "id": "64d4dce4-290e-4543-a9f5-68e8e4ab1e65",
   "metadata": {},
   "source": [
    "Question 3"
   ]
  },
  {
   "cell_type": "code",
   "execution_count": 260,
   "id": "dbad5b96-b722-43de-8ea6-d3613b464fff",
   "metadata": {},
   "outputs": [],
   "source": [
    "import numpy as np\n",
    "import matplotlib.pyplot as plt"
   ]
  },
  {
   "cell_type": "code",
   "execution_count": 321,
   "id": "bd8c526f-620c-4c8c-a6f7-245c1d04fc1f",
   "metadata": {},
   "outputs": [],
   "source": [
    "# true signal curve\n",
    "def Bayes_least_squares(variance_eta, variance_theta,N):\n",
    "    # Example 12.1 in Theodoridis\n",
    "    # Written by D.E. Brown\n",
    "    # Number and range of training samples\n",
    "    N = N\n",
    "    x_min = 0.01\n",
    "    x_max = 2\n",
    "\n",
    "    # sigma eta and sigma theta \n",
    "\n",
    "    #variance_input = [sig_eta, sig_theta]\n",
    "\n",
    "    # Variance for the noise, eta\n",
    "    variance_eta = float(variance_eta)\n",
    "    variance_theta = float(variance_theta)\n",
    "    #std_eta = np.sqrt(variance_eta)\n",
    "    std_eta = np.sqrt(variance_eta)\n",
    "    sigma_t = np.sqrt(variance_theta)\n",
    "    \n",
    "    # Set random or true theta parameters for the ground truth equation\n",
    "    theta_true = np.array([-1.7,-0.1,3.2,0.7,-0.8])\n",
    "    theta_distrbd = np.array([-0.004, -10.54, 0.465, 0.087, -0.093])\n",
    "    l = len(theta_true)\n",
    "\n",
    "    # Parameters for gaussian prior\n",
    "    #variance_theta = variance_input[1]\n",
    "    #sigma_theta = np.sqrt(variance_theta)\n",
    "    mu_theta_prior = theta_true # or mu_theta_prior = theta_distrbd\n",
    "\n",
    "    # Number of samples for prediction\n",
    "    Np = 20\n",
    "\n",
    "    # Generate training samples\n",
    "    x = np.linspace(x_min, x_max, N, endpoint=False)\n",
    "\n",
    "    # Generate random eta\n",
    "    eta = np.random.normal(0, std_eta, N)\n",
    "\n",
    "    # Measurement matrix\n",
    "    phi = np.array([np.ones_like(x), x, np.sqrt(x), np.log(x), np.power(x,3)]).T\n",
    "\n",
    "    # Generate observations with eta\n",
    "    y = np.matmul(phi, theta_true) + eta\n",
    "\n",
    "    # Covariance matrix of Gaussian posterior\n",
    "    temp = np.power(variance_theta, -1) * np.eye(l) + np.matmul(phi.T, phi) * np.power(variance_eta, -1)\n",
    "    sigma_theta_pos = np.linalg.inv(temp) \n",
    "\n",
    "    # Posterior mean\n",
    "    mu_theta_pos =  mu_theta_prior + np.dot(np.power(variance_eta, -1) * (sigma_theta_pos), np.dot(phi.T, (y - np.dot(phi, mu_theta_prior))))\n",
    "\n",
    "    # Generate sample for predictions\n",
    "    x_pred = (x_max - x_min) * np.random.random(Np)\n",
    "\n",
    "    # Prediction measurement matrix\n",
    "    phi_pred = np.array([np.ones_like(x_pred), x_pred, np.sqrt(x_pred), np.log(x_pred), np.power(x_pred,3)]).T\n",
    "\n",
    "    # Predicted mean\n",
    "    mu_y_pred = np.dot(phi_pred, mu_theta_pos)\n",
    "\n",
    "    # Predicted variance\n",
    "    temp = np.power(variance_theta, -1) * np.eye(l) + np.matmul(phi_pred.T, phi_pred) * np.power(variance_eta, -1)\n",
    "    sigma_theta_pos_pred = np.linalg.inv(temp)\n",
    "    sigma_y_pred = variance_eta + np.dot(np.dot(phi_pred, sigma_theta_pos_pred), phi_pred.T)\n",
    "\n",
    "    # Plot ground truth and results\n",
    "\n",
    "    x_true = np.linspace(x_min, x_max, 5000, endpoint=False) \n",
    "    phi_true = np.array([np.ones_like(x_true), x_true, np.sqrt(x_true), np.log(x_true), np.power(x_true,3)]).T \n",
    "    y_true = np.dot(phi_true, theta_true)\n",
    "\n",
    "\n",
    "    plt.figure(figsize=(10,7))\n",
    "    plt.plot(x_true,y_true, 'blue')\n",
    "    plt.scatter(x_pred, mu_y_pred, marker='*', c='blue')\n",
    "    plt.errorbar(x_pred,mu_y_pred, yerr=np.diag(sigma_y_pred), linestyle='None', c='red', linewidth=1)\n",
    "    plt.show()"
   ]
  },
  {
   "cell_type": "markdown",
   "id": "edb0f2ae-b988-48a6-a3f1-feefcc3a8ed8",
   "metadata": {},
   "source": [
    "Sigma eta = 1, Sigma theta=0.1, N=20"
   ]
  },
  {
   "cell_type": "code",
   "execution_count": 322,
   "id": "7d562992-1045-47b4-8725-ca57d42f5389",
   "metadata": {},
   "outputs": [
    {
     "data": {
      "image/png": "[encoded data removed]",
      "text/plain": [
       "<Figure size 720x504 with 1 Axes>"
      ]
     },
     "metadata": {
      "needs_background": "light"
     },
     "output_type": "display_data"
    }
   ],
   "source": [
    "Bayes_least_squares(1,0.1,20)"
   ]
  },
  {
   "cell_type": "markdown",
   "id": "90523544-0fef-40cb-8fdd-1a19a7ca0630",
   "metadata": {},
   "source": [
    "Sigma eta = 1, Sigma theta= 5, N=20"
   ]
  },
  {
   "cell_type": "code",
   "execution_count": 323,
   "id": "f0053a9d-7bcd-43a7-b25d-dc4076d55bf6",
   "metadata": {},
   "outputs": [
    {
     "data": {
      "image/png": "[encoded data removed]",
      "text/plain": [
       "<Figure size 720x504 with 1 Axes>"
      ]
     },
     "metadata": {
      "needs_background": "light"
     },
     "output_type": "display_data"
    }
   ],
   "source": [
    "Bayes_least_squares(1,5,20)"
   ]
  },
  {
   "cell_type": "markdown",
   "id": "473c4eb7-8f74-44dd-9906-858db221ba7e",
   "metadata": {},
   "source": [
    "After increasing theta, whether the fitting points were above or below the curve changed. However, the predicted points seem pretty similar to the curve."
   ]
  },
  {
   "cell_type": "markdown",
   "id": "52e06d23-816f-4615-a206-b3ce6adac303",
   "metadata": {},
   "source": [
    "Sigma eta = 5, Sigma theta=0.1, N=20"
   ]
  },
  {
   "cell_type": "code",
   "execution_count": 324,
   "id": "a5020cbe-6d35-4cb3-9660-7a526b09bcae",
   "metadata": {},
   "outputs": [
    {
     "data": {
      "image/png": "[encoded data removed]",
      "text/plain": [
       "<Figure size 720x504 with 1 Axes>"
      ]
     },
     "metadata": {
      "needs_background": "light"
     },
     "output_type": "display_data"
    }
   ],
   "source": [
    "Bayes_least_squares(5,0.1,20)"
   ]
  },
  {
   "cell_type": "markdown",
   "id": "68ced941-bd06-4ec7-bc32-bf47069d1c9a",
   "metadata": {},
   "source": [
    "Changing sigma eta from 1 to 5 make the predict data point fit on the model curve much worse, and increased the size of the error bars."
   ]
  },
  {
   "cell_type": "markdown",
   "id": "7325a6e7-c4cd-4afb-aa16-32f1366381c6",
   "metadata": {},
   "source": [
    "Sigma eta = 5, Sigma theta=5, N=20"
   ]
  },
  {
   "cell_type": "code",
   "execution_count": 325,
   "id": "9b6ec109-7cc7-4537-946d-db5d8913d38b",
   "metadata": {},
   "outputs": [
    {
     "data": {
      "image/png": "[encoded data removed]",
      "text/plain": [
       "<Figure size 720x504 with 1 Axes>"
      ]
     },
     "metadata": {
      "needs_background": "light"
     },
     "output_type": "display_data"
    }
   ],
   "source": [
    "Bayes_least_squares(5,5,20)"
   ]
  },
  {
   "cell_type": "markdown",
   "id": "9a80ca02-1003-48c7-bd1f-328ec606f0f8",
   "metadata": {},
   "source": [
    "Sigma eta = 1, Sigma theta=0.1, N=200"
   ]
  },
  {
   "cell_type": "code",
   "execution_count": 326,
   "id": "a0128293-5c58-4a37-9a1f-bd2cc7ed1dc5",
   "metadata": {},
   "outputs": [
    {
     "data": {
      "image/png": "[encoded data removed]",
      "text/plain": [
       "<Figure size 720x504 with 1 Axes>"
      ]
     },
     "metadata": {
      "needs_background": "light"
     },
     "output_type": "display_data"
    }
   ],
   "source": [
    "Bayes_least_squares(1,0.1,200)"
   ]
  },
  {
   "cell_type": "markdown",
   "id": "4b5c412d-7860-4822-8cf2-17e0d46f7acb",
   "metadata": {},
   "source": [
    "Sigma eta = 1, Sigma theta=5, N=200"
   ]
  },
  {
   "cell_type": "code",
   "execution_count": 327,
   "id": "5b5878de-266d-490b-85ef-399fe504b6c2",
   "metadata": {},
   "outputs": [
    {
     "data": {
      "image/png": "[encoded data removed]",
      "text/plain": [
       "<Figure size 720x504 with 1 Axes>"
      ]
     },
     "metadata": {
      "needs_background": "light"
     },
     "output_type": "display_data"
    }
   ],
   "source": [
    "Bayes_least_squares(1,5,200)"
   ]
  },
  {
   "cell_type": "markdown",
   "id": "eb1cd624-2194-44c4-ab17-102800a13a14",
   "metadata": {},
   "source": [
    "Sigma eta = 5, sigma theta = 0.1, N=200"
   ]
  },
  {
   "cell_type": "code",
   "execution_count": 328,
   "id": "ac7994c1-f70f-4ac9-b71a-f97c709ccccd",
   "metadata": {},
   "outputs": [
    {
     "data": {
      "image/png": "[encoded data removed]",
      "text/plain": [
       "<Figure size 720x504 with 1 Axes>"
      ]
     },
     "metadata": {
      "needs_background": "light"
     },
     "output_type": "display_data"
    }
   ],
   "source": [
    "Bayes_least_squares(5,0.1,200)"
   ]
  },
  {
   "cell_type": "markdown",
   "id": "2fe98421-6f94-4961-85c6-cf1f61b37917",
   "metadata": {},
   "source": [
    "Overall, it looks like when sigma eta increases, there is larger noise variance in the data and the error bars increase"
   ]
  },
  {
   "cell_type": "markdown",
   "id": "6b1492e1-eb7a-471f-93b7-3b99ba17e89b",
   "metadata": {},
   "source": [
    "Sigma eta = 5, Sigma theta=5, N=200"
   ]
  },
  {
   "cell_type": "code",
   "execution_count": 329,
   "id": "ed88ee59-7763-437c-888b-4cd1f5ca48c1",
   "metadata": {},
   "outputs": [
    {
     "data": {
      "image/png": "[encoded data removed]",
      "text/plain": [
       "<Figure size 720x504 with 1 Axes>"
      ]
     },
     "metadata": {
      "needs_background": "light"
     },
     "output_type": "display_data"
    }
   ],
   "source": [
    "Bayes_least_squares(5,5,200)"
   ]
  },
  {
   "cell_type": "markdown",
   "id": "0fcdbf6a-5b19-4d86-8524-9c70675ca0d0",
   "metadata": {},
   "source": [
    "Sigma eta = 1, Sigma theta=0.1, N=500"
   ]
  },
  {
   "cell_type": "code",
   "execution_count": 330,
   "id": "075aa461-95e8-4e28-ba30-f1432c69a2d5",
   "metadata": {},
   "outputs": [
    {
     "data": {
      "image/png": "[encoded data removed]",
      "text/plain": [
       "<Figure size 720x504 with 1 Axes>"
      ]
     },
     "metadata": {
      "needs_background": "light"
     },
     "output_type": "display_data"
    }
   ],
   "source": [
    "Bayes_least_squares(1,0.1,500)"
   ]
  },
  {
   "cell_type": "markdown",
   "id": "cc0512c7-bb59-442a-bfee-fb3e423fee25",
   "metadata": {},
   "source": [
    "Sigma eta = 1, Sigma theta=5, N=500"
   ]
  },
  {
   "cell_type": "code",
   "execution_count": 331,
   "id": "cf3fef6e-cfac-4b82-80fd-2d40366b282d",
   "metadata": {},
   "outputs": [
    {
     "data": {
      "image/png": "[encoded data removed]",
      "text/plain": [
       "<Figure size 720x504 with 1 Axes>"
      ]
     },
     "metadata": {
      "needs_background": "light"
     },
     "output_type": "display_data"
    }
   ],
   "source": [
    "Bayes_least_squares(1,5,500)"
   ]
  },
  {
   "cell_type": "markdown",
   "id": "40305735-429f-4621-a09b-2fc43119911f",
   "metadata": {},
   "source": [
    "Sigma eta = 5, Sigma theta=0.1, N=500"
   ]
  },
  {
   "cell_type": "code",
   "execution_count": 332,
   "id": "521f9b9f-f9aa-4eb7-b780-f74f91f4c321",
   "metadata": {},
   "outputs": [
    {
     "data": {
      "image/png": "[encoded data removed]",
      "text/plain": [
       "<Figure size 720x504 with 1 Axes>"
      ]
     },
     "metadata": {
      "needs_background": "light"
     },
     "output_type": "display_data"
    }
   ],
   "source": [
    "Bayes_least_squares(5,0.1,500)"
   ]
  },
  {
   "cell_type": "markdown",
   "id": "bd2f2c0a-6112-4deb-b794-6db7a23b77ac",
   "metadata": {},
   "source": [
    "Sigma eta = 5, Sigma theta=5, N=500"
   ]
  },
  {
   "cell_type": "code",
   "execution_count": 333,
   "id": "67a501d9-0fc3-44d3-92ba-5eccb557b443",
   "metadata": {},
   "outputs": [
    {
     "data": {
      "image/png": "[encoded data removed]",
      "text/plain": [
       "<Figure size 720x504 with 1 Axes>"
      ]
     },
     "metadata": {
      "needs_background": "light"
     },
     "output_type": "display_data"
    }
   ],
   "source": [
    "Bayes_least_squares(5,5,500)"
   ]
  },
  {
   "cell_type": "markdown",
   "id": "7ae35c2a-eb61-4d40-ba44-db2cd9f45ba9",
   "metadata": {},
   "source": [
    "Overall, it looks like larger datasets (value of N) improve model prediction, and larger noise variance increases the size of the error bars for the model. Sigma eta seems to be the driving force of how confidence intervals change, with sigma theta contributing less to this."
   ]
  },
  {
   "cell_type": "code",
   "execution_count": null,
   "id": "a19cc830-175f-4036-b228-de785173c3a9",
   "metadata": {},
   "outputs": [],
   "source": []
  }
 ],
 "metadata": {
  "kernelspec": {
   "display_name": "Python 3 (ipykernel)",
   "language": "python",
   "name": "python3"
  },
  "language_info": {
   "codemirror_mode": {
    "name": "ipython",
    "version": 3
   },
   "file_extension": ".py",
   "mimetype": "text/x-python",
   "name": "python",
   "nbconvert_exporter": "python",
   "pygments_lexer": "ipython3",
   "version": "3.9.12"
  }
 },
 "nbformat": 4,
 "nbformat_minor": 5
}
