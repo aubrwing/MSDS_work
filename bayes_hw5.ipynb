{
 "cells": [
  {
   "cell_type": "markdown",
   "id": "f4726628-40cc-41f9-94da-665a0609d70d",
   "metadata": {},
   "source": [
    "Question 1"
   ]
  },
  {
   "cell_type": "code",
   "execution_count": null,
   "id": "4d60cf32-efb0-4249-ac1b-2128dbecfbf4",
   "metadata": {},
   "outputs": [],
   "source": []
  },
  {
   "cell_type": "markdown",
   "id": "a1c48d02-c102-433c-907b-82fb9d392c78",
   "metadata": {},
   "source": [
    "d) We use a variational approximation because it scales better than sampling for more complex/deeper neural net architectures with more layers. It is also faster than sampling."
   ]
  },
  {
   "cell_type": "markdown",
   "id": "29b70d0c-d47d-492f-88f9-eed4be9d128d",
   "metadata": {},
   "source": [
    "Question 2"
   ]
  },
  {
   "cell_type": "code",
   "execution_count": null,
   "id": "dfa4b156-5be9-4ccf-b173-660378f6a877",
   "metadata": {},
   "outputs": [],
   "source": [
    "#!/usr/bin/env python3\n",
    "# -*- coding: utf-8 -*-\n",
    "\"\"\"\n",
    "Created on Thu Nov 12 20:35:27 2020\n",
    "\n",
    "@author: donaldbrown\n",
    "\"\"\"\n",
    "\n",
    "import numpy as np\n",
    "import pandas as pd\n",
    "\n",
    "class HMM:\n",
    "    \"\"\"Creates a class for Hidden Markov Models\n",
    "    Input:\n",
    "        Viz:      List of observed or visible states over time\n",
    "        Trans_M:  Numpy array of the Transition matrix for hidden states, \n",
    "                  H X H, H=len(Trans_M), no. of hidden variables\n",
    "        Obs_M:    Numpy array of the Observation matrix, \n",
    "                  H X V, V = no. of visible variables\n",
    "        Pi:       List of initial state probabilities\n",
    "    Methods:\n",
    "        filter = The posterior probabilities for hidden states for each time period, T X H array\n",
    "        smoother = The probabiliteis for the hidden states at each prevoius time period, T X H array\n",
    "        viturbi = The most likely path of hidden states given the observed state, data frame, 1 X T\n",
    "        predictor = The probabilities for next hidden state and the next observed state, 1 X H array \"\"\"\n",
    "    \n",
    "    def __init__(self,Viz, Trans_M, Obs_M, Pi):\n",
    "        # initialize variables\n",
    "        # Hidden state transition matrix\n",
    "        self.Trans_M = Trans_M\n",
    "        # Visible or observates state probabilities given the hidden states\n",
    "        self.Obs_M = Obs_M\n",
    "        # No. of hidden states\n",
    "        self.H = Trans_M.shape[0]\n",
    "        # No. of observed states\n",
    "        self.V = Obs_M.shape[0]\n",
    "        # prior probabaiities for the hidden states\n",
    "        self.Pi = Pi\n",
    "        # List of observed states over time\n",
    "        self.Viz = Viz\n",
    "\n",
    "        \n",
    "    def filter(self):\n",
    "        \n",
    "        T = len(self.Viz)\n",
    "        \n",
    "        # Obtain the joint probabilities of the hidden and observed states at time t\n",
    "        self.alpha = np.zeros((T, self.H))\n",
    "        self.alpha[0, :] = self.Pi * self.Obs_M[:,self.Viz[0]]\n",
    " \n",
    "        for t in range(1, T):\n",
    "            for j in range(self.H):\n",
    "                self.alpha[t, j] = self.alpha[t - 1].dot(self.Trans_M[:, j]) * self.Obs_M[j, self.Viz[t]]\n",
    "        \n",
    "        ### Insert your code here to compute the posterior probabilities ###\n",
    "        self.Post =?\n",
    "    \n",
    "        print(\"self.alpha\")\n",
    "        print(self.alpha)\n",
    "        print(\"Posterior\")\n",
    "        print(self.Post)   \n",
    "        return self.Post\n",
    "      \n",
    "    def smoother(self):\n",
    "\n",
    "        T = len(self.Viz)\n",
    "        beta = np.zeros((T, self.H))\n",
    " \n",
    "        # setting beta(T) = 1\n",
    "        beta[T - 1] = np.ones((self.H))\n",
    " \n",
    "        # Loop backwards way from T-1 to 1\n",
    "        # Due to python indexing the actual loop will be T-2 to 0\n",
    "        for t in range(T- 2, -1, -1):\n",
    "            for j in range(self.H):\n",
    "                beta[t, j] = (beta[t + 1] * self.Obs_M[:, self.Viz[t + 1]]).dot(self.Trans_M[j, :])\n",
    "                \n",
    "        # Obtain the posterior probabilities of the hidden states given the observed states       \n",
    "        \n",
    "        ### Insert your code here to compute the posterior probabilities ###\n",
    "        Post = (self.alpha*beta) / np.sum(self.alpha*beta) #not sure if this is right\n",
    "        \n",
    "        print(\"beta\")\n",
    "        print(beta)\n",
    "        print(\"Posterior\")\n",
    "        print(Post)\n",
    " \n",
    "        return Post\n",
    "    \n",
    "    \n",
    "    def viturbi(self):\n",
    "        T = len(self.Viz)\n",
    "        \n",
    "        # Obtain the joint probabity of the most likely path that ends in state j at time t\n",
    "        delta = np.zeros((T, self.H))\n",
    "        delta[0, :] = (self.Pi * self.Obs_M[:, Viz[0]])\n",
    " \n",
    "\n",
    "        prev = np.zeros((T, self.H))\n",
    "        prev[0,:] = np.repeat(None, 3)\n",
    " \n",
    "        for t in range(1, T):\n",
    "            for j in range(self.H):\n",
    "                # The most likely state given our previoius state at t-1\n",
    "                \n",
    "                prob = delta[t - 1]* (self.Trans_M[:, j])\n",
    " \n",
    "                #  The probability of the most probable state given the previous state and the observation at time t\n",
    "                \n",
    "                delta[t, j] = np.max(prob) * (self.Obs_M[j, Viz[t]])                \n",
    "                \n",
    "                # The most probable state given previous state \n",
    "\n",
    "                prev[t, j] = np.argmax(prob)\n",
    " \n",
    "                \n",
    "        # Path Array\n",
    "        S = np.zeros(T)\n",
    " \n",
    "        # Find the most probable last hidden state\n",
    "        last_state = np.argmax(delta[T-1, :])\n",
    " \n",
    "        S[T-1] = last_state\n",
    "        \n",
    "        # Find the most probable hidden states at the previous times\n",
    "        ### Insert your code here ###\n",
    "            \n",
    "        # Change to states numbers in problem (i.e., +1)\n",
    "        S = S+1\n",
    "            \n",
    "        S = S.reshape([1,3])\n",
    " \n",
    "        # Path, S, as a dataframe \n",
    "        # Create a list of column names, Time  \n",
    "        cols = list()\n",
    "        for i in range(1,T+1):\n",
    "            cols.append(\"Time \"+(str(i)))\n",
    "        Path = pd.DataFrame(S, columns = cols)\n",
    "        print('delta')\n",
    "        print(delta)\n",
    "        print('Previous')\n",
    "        print(prev)        \n",
    "        print(\"Path\")\n",
    "        print(Path)\n",
    "        return Path\n",
    " \n",
    "\n",
    "    def predictor(self, steps = 1):\n",
    "        T = len(self.Viz)\n",
    "        # Hidden state prediction probabilities using filtering results (Post)\n",
    "        Pred_Hidden = ### Insert your code here ###\n",
    "        print(\"Predicted Hidden State\")\n",
    "        print(Pred_Hidden)\n",
    "        # Visible state prediction using the predicted hidden state probabilities\n",
    "        Pred_Visible = ### Insert your code here ###\n",
    "        print(\"Predicted Visible State\")\n",
    "        print(Pred_Visible)"
   ]
  },
  {
   "cell_type": "code",
   "execution_count": null,
   "id": "5cd42559-ab1b-4e76-a83b-8f75f5896103",
   "metadata": {},
   "outputs": [],
   "source": [
    "# Data \n",
    "# Transition matrix\n",
    "TM = np.array([[.6,.3,.1],[.4,.4,.2],[.1,.4,.5]])  \n",
    "# Observation matrix\n",
    "OM = np.array([[.45,.4,.15],[.3,.4,.3],[.2,.5,.3]])\n",
    "OM = OM.T\n",
    "# Prior probabilities of hidden states??\n",
    "p = [1,1,1]\n",
    "# Observed visible states??\n",
    "Viz = [2,0,1]"
   ]
  },
  {
   "cell_type": "markdown",
   "id": "87933302-03dc-4067-aeb9-8ed30a5ad99c",
   "metadata": {},
   "source": [
    "a) Most likely current state given observed state"
   ]
  },
  {
   "cell_type": "code",
   "execution_count": null,
   "id": "435b11f2-66fa-4418-9fa6-c7fb7a86eeda",
   "metadata": {},
   "outputs": [],
   "source": [
    "hmm1 = HMM(Viz, TM, OM, p)\n",
    "hmm1.filter()"
   ]
  },
  {
   "cell_type": "markdown",
   "id": "4b19a60d-6011-4ae4-b671-2281564f8243",
   "metadata": {},
   "source": [
    "b) Most likely state in each previous time period"
   ]
  },
  {
   "cell_type": "code",
   "execution_count": null,
   "id": "5602d375-3321-457f-8fd9-53a473709603",
   "metadata": {},
   "outputs": [],
   "source": [
    "hmm1.smoother()"
   ]
  },
  {
   "cell_type": "markdown",
   "id": "e7fdc4db-5128-4860-bd7e-4a0ff41e2c4a",
   "metadata": {},
   "source": [
    "c) Most likely path of performance"
   ]
  },
  {
   "cell_type": "code",
   "execution_count": null,
   "id": "98586b37-b305-4c79-ad75-d43fc371180a",
   "metadata": {},
   "outputs": [],
   "source": [
    "hmm1.viturbi()"
   ]
  },
  {
   "cell_type": "markdown",
   "id": "a5cb7b3a-c627-4f44-b127-48f6bc4b6f28",
   "metadata": {},
   "source": [
    "d) Next time period"
   ]
  },
  {
   "cell_type": "code",
   "execution_count": null,
   "id": "d7701596-2f06-40c6-aa76-286590103903",
   "metadata": {},
   "outputs": [],
   "source": [
    "hmm1.predictor()"
   ]
  }
 ],
 "metadata": {
  "kernelspec": {
   "display_name": "Python 3 (ipykernel)",
   "language": "python",
   "name": "python3"
  },
  "language_info": {
   "codemirror_mode": {
    "name": "ipython",
    "version": 3
   },
   "file_extension": ".py",
   "mimetype": "text/x-python",
   "name": "python",
   "nbconvert_exporter": "python",
   "pygments_lexer": "ipython3",
   "version": "3.9.12"
  }
 },
 "nbformat": 4,
 "nbformat_minor": 5
}
